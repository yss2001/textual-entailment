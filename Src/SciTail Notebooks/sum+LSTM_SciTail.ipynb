{
 "cells": [
  {
   "cell_type": "markdown",
   "metadata": {},
   "source": [
    "# Summation & LSTM Model - SciTail Dataset\n",
    "\n",
    "The following notebook contains the implementation of the baseline summation model, and the standard LSTM model for the SciTail dataset"
   ]
  },
  {
   "cell_type": "code",
   "execution_count": 24,
   "metadata": {},
   "outputs": [
    {
     "name": "stderr",
     "output_type": "stream",
     "text": [
      "[nltk_data] Downloading package punkt to\n",
      "[nltk_data]     /home/aakashj2412/nltk_data...\n",
      "[nltk_data]   Package punkt is already up-to-date!\n"
     ]
    }
   ],
   "source": [
    "# Import the necessary libraries\n",
    "\n",
    "import re\n",
    "from numpy import array\n",
    "from numpy import asarray\n",
    "from numpy import zeros\n",
    "\n",
    "import tensorflow as tf\n",
    "import keras\n",
    "import keras.backend as K\n",
    "from keras.models import Model\n",
    "from keras.regularizers import L2\n",
    "from keras.layers.embeddings import Embedding\n",
    "from keras.layers import Dense, Dropout, Input, LSTM\n",
    "from keras.preprocessing.sequence import pad_sequences\n",
    "from keras.preprocessing.text import Tokenizer\n",
    "from keras.callbacks import EarlyStopping\n",
    "\n",
    "import nltk\n",
    "nltk.download('punkt')\n",
    "from nltk.tokenize import word_tokenize"
   ]
  },
  {
   "cell_type": "code",
   "execution_count": 25,
   "metadata": {},
   "outputs": [],
   "source": [
    "# Helper function that cleans the input data and enumerates the labels\n",
    "\n",
    "def extract(s):\n",
    "    s = re.sub('\\\\(', '', s)\n",
    "    s = re.sub('\\\\)', '', s)\n",
    "    s = re.sub('\\\\s{2,}', ' ', s)\n",
    "    return s.strip()\n",
    "\n",
    "labels = {'entails\\n': 0, 'contradicts': 1, 'neutral\\n': 2}"
   ]
  },
  {
   "cell_type": "code",
   "execution_count": 26,
   "metadata": {},
   "outputs": [],
   "source": [
    "# Function that reads data and parses data from file\n",
    "\n",
    "def readFileData(filePath):\n",
    "    with open(filePath, 'r') as f:\n",
    "        inputRows = [row.split('\\t') for row in f.readlines()[1:]]\n",
    "\n",
    "    inputPremises = [row[0] for row in inputRows if row[2] in labels]\n",
    "    inputHypotheses = [row[1] for row in inputRows if row[2] in labels]\n",
    "    inputLabels = [labels[row[2]] for row in inputRows if row[2] in labels]\n",
    "    f.close()\n",
    "\n",
    "    return [inputPremises, inputHypotheses, inputLabels]"
   ]
  },
  {
   "cell_type": "code",
   "execution_count": 27,
   "metadata": {},
   "outputs": [],
   "source": [
    "# Reading train and test data\n",
    "\n",
    "datasetPath = \"../../Datasets/SciTail/\"\n",
    "trainData = readFileData(f'{datasetPath}scitail_1.0_train.tsv')\n",
    "testData = readFileData(f'{datasetPath}scitail_1.0_test.tsv')\n",
    "validationData = readFileData(f'{datasetPath}scitail_1.0_dev.tsv')"
   ]
  },
  {
   "cell_type": "code",
   "execution_count": 28,
   "metadata": {},
   "outputs": [],
   "source": [
    "# Hyperparameters\n",
    "\n",
    "maxLen = 32\n",
    "epochs = 100\n",
    "batchSize = 512\n",
    "gloveDimension = 300\n",
    "hiddenDimension = 100\n",
    "regularization = 4e-6"
   ]
  },
  {
   "cell_type": "code",
   "execution_count": 29,
   "metadata": {},
   "outputs": [],
   "source": [
    "# Tokenizer to generate the vocabulary of the system\n",
    "\n",
    "tokenizer = Tokenizer()\n",
    "tokenizer.fit_on_texts(trainData[0] + trainData[1])\n",
    "vocabSize = len(tokenizer.word_index)+1"
   ]
  },
  {
   "cell_type": "code",
   "execution_count": 30,
   "metadata": {},
   "outputs": [],
   "source": [
    "# Convert the train data to sequences as per the vocabulary\n",
    "trainData[0] = tokenizer.texts_to_sequences(trainData[0])\n",
    "trainData[1] = tokenizer.texts_to_sequences(trainData[1])\n",
    "\n",
    "# Pad or trim all generated sequences to the same max sentence length\n",
    "trainData[0] = pad_sequences(trainData[0], maxLen, padding='post')\n",
    "trainData[1] = pad_sequences(trainData[1], maxLen, padding='post')\n",
    "\n",
    "# Transform the labels to one-hot encoding\n",
    "trainData[2] = tf.keras.utils.to_categorical(trainData[2], num_classes=3)"
   ]
  },
  {
   "cell_type": "code",
   "execution_count": 31,
   "metadata": {},
   "outputs": [],
   "source": [
    "# Convert the test data to sequences as per the vocabulary\n",
    "testData[0] = tokenizer.texts_to_sequences(testData[0])\n",
    "testData[1] = tokenizer.texts_to_sequences(testData[1])\n",
    "\n",
    "# Pad or trim all generated sequences to the same max sentence length\n",
    "testData[0] = pad_sequences(testData[0], maxLen, padding='post')\n",
    "testData[1] = pad_sequences(testData[1], maxLen, padding='post')\n",
    "\n",
    "# Transform the labels to one-hot encoding\n",
    "testData[2] = tf.keras.utils.to_categorical(testData[2], num_classes=3)"
   ]
  },
  {
   "cell_type": "code",
   "execution_count": 32,
   "metadata": {},
   "outputs": [],
   "source": [
    "# Convert the validation data to sequences as per the vocabulary\n",
    "validationData[0] = tokenizer.texts_to_sequences(validationData[0])\n",
    "validationData[1] = tokenizer.texts_to_sequences(validationData[1])\n",
    "\n",
    "# Pad or trim all generated sequences to the same max sentence length\n",
    "validationData[0] = pad_sequences(validationData[0], maxLen, padding='post')\n",
    "validationData[1] = pad_sequences(validationData[1], maxLen, padding='post')\n",
    "\n",
    "# Transform the labels to one-hot encoding\n",
    "validationData[2] = tf.keras.utils.to_categorical(validationData[2], num_classes=3)"
   ]
  },
  {
   "cell_type": "code",
   "execution_count": 33,
   "metadata": {},
   "outputs": [],
   "source": [
    "# Import the GloVe embeddings and generate embeddings dictionary\n",
    "\n",
    "embeddingsDict = dict()\n",
    "glovePath = '../../Datasets/GloVe/'\n",
    "glove = open(f'{glovePath}glove.840B.300d.txt', encoding='utf8')\n",
    "\n",
    "for line in glove:\n",
    "    records = line.split()\n",
    "    word = ''.join(records[:-300])\n",
    "    vectorDimensions = asarray(records[-300:], dtype='float32')\n",
    "    embeddingsDict[word] = vectorDimensions\n",
    "\n",
    "glove.close()"
   ]
  },
  {
   "cell_type": "code",
   "execution_count": 34,
   "metadata": {},
   "outputs": [],
   "source": [
    "# Iterate through the embeddings and store only those that are present in our vocabulary\n",
    "\n",
    "embeddingsMat = zeros((vocabSize, gloveDimension))\n",
    "for word, index in tokenizer.word_index.items():\n",
    "    vec = embeddingsDict.get(word)\n",
    "    if vec is not None:\n",
    "        embeddingsMat[index] = vec"
   ]
  },
  {
   "cell_type": "code",
   "execution_count": 35,
   "metadata": {},
   "outputs": [],
   "source": [
    "# Define the embedding layer for our baseline RNN model\n",
    "embed = Embedding(vocabSize, gloveDimension, weights=[embeddingsMat], input_length=maxLen, trainable=False)\n",
    "\n",
    "# As Premise and Hypothesis are distinct and are to be inputted separately, define two inputs and embed\n",
    "premise = Input(shape=(maxLen,), dtype='int32')\n",
    "hypothesis = Input(shape=(maxLen,), dtype='int32')\n",
    "\n",
    "premInput = embed(premise)\n",
    "hypoInput = embed(hypothesis)\n",
    "\n",
    "convert = Dense(hiddenDimension, activation='tanh', input_shape=(gloveDimension,))\n",
    "\n",
    "premInput = convert(premInput)\n",
    "hypoInput = convert(hypoInput)"
   ]
  },
  {
   "cell_type": "code",
   "execution_count": 36,
   "metadata": {},
   "outputs": [],
   "source": [
    "# Once the sentence embeddings have been generated, generate a matrix of dimensions maxLen X gloveDimension\n",
    "# On adding maxLen, we get a single embedding vector of length gloveDimension\n",
    "\n",
    "# Alternate between #1 and #2 rnn definitions to switch between summation and LSTM model\n",
    "\n",
    "# rnn = keras.layers.core.Lambda(lambda x: K.sum(x, axis=1), output_shape=hiddenDimension)\n",
    "rnn = LSTM(hiddenDimension, dropout=0.2, recurrent_dropout=0.2)"
   ]
  },
  {
   "cell_type": "code",
   "execution_count": 37,
   "metadata": {},
   "outputs": [],
   "source": [
    "# Apply batch normalization to the two input embeddings separately\n",
    "\n",
    "premInput = rnn(premInput)\n",
    "hypoInput = rnn(hypoInput)\n",
    "premInput = tf.keras.layers.BatchNormalization()(premInput)\n",
    "hypoInput = tf.keras.layers.BatchNormalization()(hypoInput)"
   ]
  },
  {
   "cell_type": "code",
   "execution_count": 38,
   "metadata": {},
   "outputs": [],
   "source": [
    "# Joint is a concatenated embeddings layer, generated from the premise and hypothesis inputs\n",
    "# Dilution of probability 0.2, to assist in regularization\n",
    "joint = keras.layers.concatenate([premInput, hypoInput])\n",
    "joint = Dropout(0.2)(joint)\n",
    "for i in range(3):\n",
    "    joint = Dense(2*hiddenDimension, activation='tanh', kernel_regularizer=L2(regularization))(joint)\n",
    "    joint = Dropout(0.2)(joint)\n",
    "    joint = tf.keras.layers.BatchNormalization()(joint)\n",
    "\n",
    "# 3 layers of the TanH activation function, along with L2 regularization.\n",
    "# The final decision is based on the Softmax function\n",
    "pred = Dense(3, activation='softmax')(joint)"
   ]
  },
  {
   "cell_type": "code",
   "execution_count": 39,
   "metadata": {},
   "outputs": [],
   "source": [
    "# Defining the final models input and output format, as well as compilation parameters\n",
    "\n",
    "model = Model(inputs=[premise, hypothesis], outputs=pred)\n",
    "model.compile(optimizer='rmsprop', loss='categorical_crossentropy', metrics=['accuracy'])"
   ]
  },
  {
   "cell_type": "markdown",
   "metadata": {},
   "source": [
    "## Summation Model\n",
    "\n",
    "The following subsection trains the model and reports the findings for the summation model"
   ]
  },
  {
   "cell_type": "code",
   "execution_count": 20,
   "metadata": {},
   "outputs": [
    {
     "name": "stdout",
     "output_type": "stream",
     "text": [
      "Epoch 1/100\n",
      "47/47 [==============================] - 2s 51ms/step - loss: 0.3150 - accuracy: 0.8654 - val_loss: 0.6531 - val_accuracy: 0.6969\n",
      "Epoch 2/100\n",
      "47/47 [==============================] - 2s 50ms/step - loss: 0.3134 - accuracy: 0.8676 - val_loss: 0.6700 - val_accuracy: 0.7084\n",
      "Epoch 3/100\n",
      "47/47 [==============================] - 2s 51ms/step - loss: 0.3063 - accuracy: 0.8706 - val_loss: 0.6787 - val_accuracy: 0.7153\n",
      "Epoch 4/100\n",
      "47/47 [==============================] - 2s 52ms/step - loss: 0.3101 - accuracy: 0.8695 - val_loss: 0.8196 - val_accuracy: 0.6677\n",
      "Epoch 5/100\n",
      "47/47 [==============================] - 2s 51ms/step - loss: 0.3034 - accuracy: 0.8714 - val_loss: 0.7044 - val_accuracy: 0.6915\n",
      "Epoch 6/100\n",
      "47/47 [==============================] - 2s 50ms/step - loss: 0.2988 - accuracy: 0.8756 - val_loss: 0.6732 - val_accuracy: 0.7053\n",
      "Epoch 7/100\n",
      "47/47 [==============================] - 2s 50ms/step - loss: 0.2919 - accuracy: 0.8779 - val_loss: 0.7561 - val_accuracy: 0.6938\n",
      "Epoch 8/100\n",
      "47/47 [==============================] - 2s 52ms/step - loss: 0.2879 - accuracy: 0.8775 - val_loss: 0.7258 - val_accuracy: 0.7045\n",
      "Epoch 9/100\n",
      "47/47 [==============================] - 2s 52ms/step - loss: 0.2840 - accuracy: 0.8813 - val_loss: 0.7532 - val_accuracy: 0.7038\n",
      "Epoch 10/100\n",
      "47/47 [==============================] - 2s 52ms/step - loss: 0.2880 - accuracy: 0.8790 - val_loss: 0.7371 - val_accuracy: 0.6631\n",
      "Epoch 11/100\n",
      "47/47 [==============================] - 2s 53ms/step - loss: 0.2812 - accuracy: 0.8821 - val_loss: 0.7416 - val_accuracy: 0.7084\n"
     ]
    },
    {
     "data": {
      "text/plain": [
       "<keras.callbacks.History at 0x7f34a9be8f40>"
      ]
     },
     "execution_count": 20,
     "metadata": {},
     "output_type": "execute_result"
    }
   ],
   "source": [
    "# Summation Model\n",
    "\n",
    "callback = EarlyStopping(monitor='val_loss', min_delta=0, patience=10)\n",
    "model.fit([array(trainData[0]), array(trainData[1])], array(trainData[2]), batch_size=batchSize, epochs=epochs, callbacks=[callback], validation_data=[[array(validationData[0]), array(validationData[1])], array(validationData[2])])"
   ]
  },
  {
   "cell_type": "code",
   "execution_count": 21,
   "metadata": {},
   "outputs": [
    {
     "name": "stdout",
     "output_type": "stream",
     "text": [
      "9/9 [==============================] - 0s 11ms/step - loss: 0.7286 - accuracy: 0.7049\n",
      "Loss =  0.7286471724510193\n",
      "Acc =  0.7049411535263062\n"
     ]
    }
   ],
   "source": [
    "# Evaluating accuracy on the trained model\n",
    "\n",
    "loss, acc = model.evaluate([array(testData[0]), array(testData[1])], array(testData[2]), batch_size=256)\n",
    "print('Loss = ', loss)\n",
    "print('Acc = ', acc)"
   ]
  },
  {
   "cell_type": "code",
   "execution_count": null,
   "metadata": {},
   "outputs": [],
   "source": [
    "model.save('../../Models/summation_scitail.h5')"
   ]
  },
  {
   "cell_type": "code",
   "execution_count": 1,
   "metadata": {},
   "outputs": [
    {
     "name": "stdout",
     "output_type": "stream",
     "text": [
      "\n",
      "39/39 [==============================] - 4s 78ms/step - loss: 0.5769 - accuracy: 0.7330\n",
      "0.7730048894882202\n"
     ]
    }
   ],
   "source": [
    "ccc = keras.models.load_model('../../Models/summation_scitail.h5')\n",
    "l, a = ccc.evaluate([array(testData[0]), array(testData[1])], array(testData[2]), batch_size=256)\n",
    "print(a)"
   ]
  },
  {
   "cell_type": "markdown",
   "metadata": {},
   "source": [
    "We can thus observe the following results for the summation model, for the SciTail dataset:\n",
    "\n",
    "- Training Accuracy: 88.21%\n",
    "- Validation Accuracy: 70.84%\n",
    "- Test Accuracy: 70.49%"
   ]
  },
  {
   "cell_type": "markdown",
   "metadata": {},
   "source": [
    "## LSTM Model\n",
    "\n",
    "The following subsection trains the model and reports the findings for the LSTM model"
   ]
  },
  {
   "cell_type": "code",
   "execution_count": 42,
   "metadata": {},
   "outputs": [
    {
     "name": "stdout",
     "output_type": "stream",
     "text": [
      "\n",
      "Epoch 1/100\n",
      "47/47 [==============================] - 25s 388ms/step - loss: 1.1180 - accuracy: 0.5029 - val_loss: 0.8707 - val_accuracy: 0.4973\n",
      "Epoch 2/100\n",
      "47/47 [==============================] - 17s 372ms/step - loss: 0.7896 - accuracy: 0.6372 - val_loss: 0.8930 - val_accuracy: 0.4958\n",
      "Epoch 3/100\n",
      "47/47 [==============================] - 18s 379ms/step - loss: 0.6480 - accuracy: 0.6889 - val_loss: 0.7231 - val_accuracy: 0.6723\n",
      "Epoch 4/100\n",
      "47/47 [==============================] - 18s 375ms/step - loss: 0.5954 - accuracy: 0.7025 - val_loss: 0.6603 - val_accuracy: 0.6508\n",
      "Epoch 5/100\n",
      "47/47 [==============================] - 18s 373ms/step - loss: 0.5452 - accuracy: 0.7297 - val_loss: 0.6854 - val_accuracy: 0.6408\n",
      "Epoch 6/100\n",
      "47/47 [==============================] - 18s 378ms/step - loss: 0.5221 - accuracy: 0.7446 - val_loss: 0.7945 - val_accuracy: 0.6539\n",
      "Epoch 7/100\n",
      "47/47 [==============================] - 18s 385ms/step - loss: 0.4927 - accuracy: 0.7624 - val_loss: 0.9841 - val_accuracy: 0.5572\n",
      "Epoch 8/100\n",
      "47/47 [==============================] - 18s 376ms/step - loss: 0.4751 - accuracy: 0.7744 - val_loss: 0.6011 - val_accuracy: 0.6477\n",
      "Epoch 9/100\n",
      "47/47 [==============================] - 18s 374ms/step - loss: 0.4547 - accuracy: 0.7884 - val_loss: 0.6168 - val_accuracy: 0.6677\n",
      "Epoch 10/100\n",
      "47/47 [==============================] - 18s 373ms/step - loss: 0.4409 - accuracy: 0.7964 - val_loss: 0.7755 - val_accuracy: 0.6232\n",
      "Epoch 11/100\n",
      "47/47 [==============================] - 18s 373ms/step - loss: 0.4243 - accuracy: 0.8064 - val_loss: 0.8856 - val_accuracy: 0.5625\n",
      "Epoch 12/100\n",
      "47/47 [==============================] - 18s 375ms/step - loss: 0.4088 - accuracy: 0.8168 - val_loss: 0.5831 - val_accuracy: 0.7160\n",
      "Epoch 13/100\n",
      "47/47 [==============================] - 18s 373ms/step - loss: 0.4011 - accuracy: 0.8210 - val_loss: 0.6188 - val_accuracy: 0.6884\n",
      "Epoch 14/100\n",
      "47/47 [==============================] - 18s 383ms/step - loss: 0.3897 - accuracy: 0.8276 - val_loss: 0.9232 - val_accuracy: 0.5971\n",
      "Epoch 15/100\n",
      "47/47 [==============================] - 19s 396ms/step - loss: 0.3868 - accuracy: 0.8333 - val_loss: 0.6803 - val_accuracy: 0.6554\n",
      "Epoch 16/100\n",
      "47/47 [==============================] - 18s 388ms/step - loss: 0.3752 - accuracy: 0.8377 - val_loss: 0.7426 - val_accuracy: 0.7283\n",
      "\n",
      "<keras.callbacks.History at 0x7f34a9be8f40>\n",
      "\n"
     ]
    }
   ],
   "source": [
    "# LSTM Model\n",
    "\n",
    "callback = EarlyStopping(monitor='val_loss', min_delta=0, patience=10)\n",
    "model.fit([array(trainData[0]), array(trainData[1])], array(trainData[2]), batch_size=batchSize, epochs=epochs, callbacks=[callback], validation_data=[[array(validationData[0]), array(validationData[1])], array(validationData[2])])"
   ]
  },
  {
   "cell_type": "code",
   "execution_count": 45,
   "metadata": {},
   "outputs": [
    {
     "name": "stdout",
     "output_type": "stream",
     "text": [
      "9/9 [==============================] - 0s 42ms/step - loss: 0.9079 - accuracy: 0.6659\n",
      "Loss =  0.9078975319862366\n",
      "Acc =  0.7458823490142822\n"
     ]
    }
   ],
   "source": [
    "# Evaluating accuracy on the trained model\n",
    "\n",
    "loss, acc = model.evaluate([array(testData[0]), array(testData[1])], array(testData[2]), batch_size=256)\n",
    "print('Loss = ', loss)\n",
    "print('Acc = ', acc)\n"
   ]
  },
  {
   "cell_type": "code",
   "execution_count": null,
   "metadata": {},
   "outputs": [],
   "source": [
    "model.save('../../Models/LSTM_scitail.h5')"
   ]
  },
  {
   "cell_type": "markdown",
   "metadata": {},
   "source": [
    "We can thus observe the following results for the simple LSTM model, for the SciTail dataset:\n",
    "\n",
    "- Training Accuracy: 89.58%\n",
    "- Validation Accuracy: 72.83%\n",
    "- Test Accuracy: 74.58%\n",
    "\n",
    "In general, we observe an increase in performance by the simple LSTM model."
   ]
  }
 ],
 "metadata": {
  "interpreter": {
   "hash": "916dbcbb3f70747c44a77c7bcd40155683ae19c65e1c03b4aa3499c5328201f1"
  },
  "kernelspec": {
   "display_name": "Python 3.8.10 64-bit",
   "language": "python",
   "name": "python3"
  },
  "language_info": {
   "codemirror_mode": {
    "name": "ipython",
    "version": 3
   },
   "file_extension": ".py",
   "mimetype": "text/x-python",
   "name": "python",
   "nbconvert_exporter": "python",
   "pygments_lexer": "ipython3",
   "version": "3.8.10"
  },
  "orig_nbformat": 4
 },
 "nbformat": 4,
 "nbformat_minor": 2
}
